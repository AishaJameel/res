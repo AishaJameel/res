{
  "nbformat": 4,
  "nbformat_minor": 0,
  "metadata": {
    "colab": {
      "provenance": []
    },
    "kernelspec": {
      "name": "python3",
      "display_name": "Python 3"
    },
    "language_info": {
      "name": "python"
    }
  },
  "cells": [
    {
      "cell_type": "markdown",
      "source": [
        "# What is Machine Learning?\n",
        "Machine Learning (ML) is a field of Artificial Intelligence (AI) that enables computers to learn from data and make decisions or predictions without being explicitly programmed.\n",
        "\n",
        "So, instead of writing a program to solve a problem, we let the computer learn patterns from data and then use those patterns to make predictions."
      ],
      "metadata": {
        "id": "3u45iimnG0Ob"
      }
    },
    {
      "cell_type": "markdown",
      "source": [
        "# Real-Life Applications of Machine Learning\n",
        "| Domain           | Application                  | Example                                   |\n",
        "| ---------------- | ---------------------------- | ----------------------------------------- |\n",
        "| 📧 Email         | Spam detection               | Gmail filtering spam mails                |\n",
        "| 🎥 Entertainment | Recommendation systems       | Netflix, YouTube suggesting movies        |\n",
        "| 💰 Finance       | Fraud detection              | Banks identifying fraudulent transactions |\n",
        "| 🚗 Automotive    | Self-driving cars            | Tesla using ML for object detection       |\n",
        "| 🏥 Healthcare    | Disease prediction           | Predicting diabetes, cancer risk          |\n",
        "| 🛍️ Retail       | Customer behavior prediction | Amazon predicting what you'll buy next    |\n"
      ],
      "metadata": {
        "id": "diyHEqQGHDqG"
      }
    },
    {
      "cell_type": "markdown",
      "source": [
        "# Types of Machine Learning"
      ],
      "metadata": {
        "id": "Pl-a3dwZHJLo"
      }
    },
    {
      "cell_type": "markdown",
      "source": [
        "Machine Learning is mainly divided into three types:"
      ],
      "metadata": {
        "id": "nFcuR42ZHL2G"
      }
    },
    {
      "cell_type": "markdown",
      "source": [
        "# Supervised Learning\n",
        "\n",
        "The model is trained on labeled data (input + output known)."
      ],
      "metadata": {
        "id": "Zqs6J8FDHMsg"
      }
    },
    {
      "cell_type": "markdown",
      "source": [
        "## Example:\n",
        "\n",
        "Input: Hours studied\n",
        "\n",
        "Output: Marks obtained\n",
        "\n",
        "The algorithm learns the relationship between them.\n",
        "\n",
        "## Applications:\n",
        "\n",
        "Predicting house prices\n",
        "\n",
        "Spam/Not Spam classification\n",
        "\n",
        "Sentiment analysis\n",
        "\n",
        "## Algorithms:\n",
        "\n",
        "Linear Regression\n",
        "\n",
        "Logistic Regression\n",
        "\n",
        "Decision Trees\n",
        "\n",
        "Random Forest\n",
        "\n",
        "Support Vector Machines (SVM)"
      ],
      "metadata": {
        "id": "lM3Y9tO6HUm_"
      }
    },
    {
      "cell_type": "markdown",
      "source": [
        "# Unsupervised Learning\n",
        "\n",
        "The model is trained on unlabeled data (only input, no output).\n",
        "\n",
        "Goal: Discover hidden patterns or groupings."
      ],
      "metadata": {
        "id": "TfY7dgzoHej8"
      }
    },
    {
      "cell_type": "markdown",
      "source": [
        "Examples:\n",
        "\n",
        "Customer segmentation\n",
        "\n",
        "Topic modeling in text\n",
        "\n",
        "Market basket analysis\n",
        "\n",
        "Algorithms:\n",
        "\n",
        "K-Means Clustering\n",
        "\n",
        "Hierarchical Clustering\n",
        "\n",
        "PCA (Principal Component Analysis)"
      ],
      "metadata": {
        "id": "zXwbfYTxHjz6"
      }
    },
    {
      "cell_type": "markdown",
      "source": [
        "# Reinforcement Learning\n",
        "\n",
        "The model learns by interacting with an environment and receiving rewards or penalties for actions.\n",
        "\n",
        "## Example:\n",
        "\n",
        "A robot learning to walk\n",
        "\n",
        "AlphaGo (AI playing Go)\n",
        "\n",
        "Self-driving cars adjusting their driving policy"
      ],
      "metadata": {
        "id": "slJF-jlyHoKl"
      }
    },
    {
      "cell_type": "markdown",
      "source": [
        "# Machine Learning Problem Types\n",
        "\n",
        "When we use Machine Learning, our goal is usually to predict something.\n",
        "\n",
        "Depending on what type of data or output we want to predict,\n",
        "ML problems are generally divided into two main categories:\n",
        "\n",
        "🔹 Regression → Predict numerical (continuous) values\n",
        "🔹 Classification → Predict categorical (discrete) values"
      ],
      "metadata": {
        "id": "3xaxUDzrLGAm"
      }
    },
    {
      "cell_type": "markdown",
      "source": [
        "# What is Regression?\n",
        "\n",
        "Regression is used when the output (target variable) is numerical or continuous — meaning it can take any real number value.\n",
        "\n",
        "| Problem                  | Input Features (X)       | Output (Y)       | Type       |\n",
        "| ------------------------ | ------------------------ | ---------------- | ---------- |\n",
        "| Predicting house prices  | Area, Bedrooms, Location | Price (in $)     | Continuous |\n",
        "| Predicting student marks | Hours studied            | Marks (0–100)    | Continuous |\n",
        "| Predicting temperature   | Time of day, humidity    | Temperature (°C) | Continuous |\n",
        "| Predicting sales revenue | Marketing budget, region | Sales amount     | Continuous |\n",
        "\n",
        "\n",
        "# What is Classification?\n",
        "\n",
        "Classification is used when the output variable is categorical (discrete) —\n",
        "meaning the output belongs to specific groups or classes.\n",
        "\n",
        "**Examples of Classification Problems**\n",
        "| Problem                       | Input Features (X)         | Output (Y)                    | Type        |\n",
        "| ----------------------------- | -------------------------- | ----------------------------- | ----------- |\n",
        "| Email Spam Detection          | Email text                 | Spam / Not Spam               | Binary      |\n",
        "| Tumor Diagnosis               | Tumor size, age, cell type | Malignant / Benign            | Binary      |\n",
        "| Weather Prediction            | Temperature, humidity      | Sunny / Rainy / Cloudy        | Multi-class |\n",
        "| Handwritten Digit Recognition | Image pixels               | 0–9 digits                    | Multi-class |\n",
        "| Sentiment Analysis            | Movie review text          | Positive / Negative / Neutral | Multi-class |\n",
        "\n",
        "\n",
        "# Regression vs Classification\n",
        "| Feature                | Regression                              | Classification                        |\n",
        "| ---------------------- | --------------------------------------- | ------------------------------------- |\n",
        "| **Output type**        | Continuous / Numerical                  | Categorical / Discrete                |\n",
        "| **Goal**               | Predict a number                        | Predict a class or label              |\n",
        "| **Examples**           | Predict house price, temperature, sales | Predict spam/not spam, disease type   |\n",
        "| **Algorithms**         | Linear Regression, SVR                  | Logistic Regression, Decision Tree    |\n",
        "| **Evaluation Metrics** | MSE, RMSE, R² Score                     | Accuracy, Precision, Recall, F1-Score |\n",
        "| **Output Example**     | 93.6 marks                              | “Pass” / “Fail”                       |\n"
      ],
      "metadata": {
        "id": "DqIP9XA8LP1d"
      }
    },
    {
      "cell_type": "markdown",
      "source": [
        "# Real-World Example Comparison\n",
        "| Scenario                                          | Type           | Why?                                |\n",
        "| ------------------------------------------------- | -------------- | ----------------------------------- |\n",
        "| Predicting the **price** of a car                 | Regression     | Output is numeric (price value)     |\n",
        "| Predicting whether a **customer will buy** or not | Classification | Output is “Yes” or “No”             |\n",
        "| Predicting **exam marks**                         | Regression     | Continuous numeric value            |\n",
        "| Predicting **disease presence**                   | Classification | Categories: “Positive” / “Negative” |\n",
        "| Predicting **movie rating (1–5 stars)**           | Classification | Discrete classes                    |\n",
        "| Predicting **electricity usage**                  | Regression     | Continuous numeric output           |\n"
      ],
      "metadata": {
        "id": "mGwvYhgnLwJE"
      }
    },
    {
      "cell_type": "markdown",
      "source": [
        "# Supervised Learning Example — Linear Regression\n",
        "\n",
        "Now let’s focus on one key Machine Learning model: Linear Regression\n",
        "This is the foundation of ML and is often the first algorithm taught."
      ],
      "metadata": {
        "id": "A3LcdZAJHteZ"
      }
    },
    {
      "cell_type": "markdown",
      "source": [
        "# What is Linear Regression?\n",
        "\n",
        "Linear Regression is a supervised learning algorithm that models the relationship between a dependent variable (Y) and one or more independent variables (X) using a straight line.\n"
      ],
      "metadata": {
        "id": "jw7qy1ghH4zF"
      }
    },
    {
      "cell_type": "code",
      "source": [
        "# Import libraries\n",
        "import pandas as pd\n",
        "import numpy as np\n",
        "import matplotlib.pyplot as plt\n",
        "from sklearn.model_selection import train_test_split\n",
        "from sklearn.linear_model import LinearRegression\n",
        "from sklearn.metrics import mean_squared_error, r2_score\n",
        "\n",
        "# Dataset\n",
        "data = {\n",
        "    'Hours': [1,2,3,4,5,6,7,8,9,10],\n",
        "    'Marks': [20,25,35,40,50,60,65,70,85,90]\n",
        "}\n",
        "df = pd.DataFrame(data)\n",
        "\n",
        "# Features and target\n",
        "X = df[['Hours']]\n",
        "y = df['Marks']\n",
        "\n",
        "# Split into training and testing data\n",
        "X_train, X_test, y_train, y_test = train_test_split(X, y, test_size=0.2, random_state=42)\n",
        "\n",
        "# Train the model\n",
        "model = LinearRegression()\n",
        "model.fit(X_train, y_train)\n",
        "\n",
        "# Model Parameters\n",
        "print(\"Slope (Coefficient):\", model.coef_[0])\n",
        "print(\"Intercept:\", model.intercept_)\n",
        "\n",
        "# Predictions\n",
        "y_pred = model.predict(X_test)\n",
        "\n",
        "# Evaluate model performance\n",
        "mse = mean_squared_error(y_test, y_pred)\n",
        "r2 = r2_score(y_test, y_pred)\n",
        "accuracy = r2 * 100  # Convert to percentage\n",
        "\n",
        "print(\"Mean Squared Error:\", round(mse, 2))\n",
        "print(\"R-squared Score:\", round(r2, 3))\n",
        "print(\"Model Accuracy: {:.2f}%\".format(accuracy))\n",
        "\n",
        "# Live prediction\n",
        "hours = [[9.25]]\n",
        "predicted_marks = model.predict(hours)\n",
        "print(f\"📘 Predicted Marks for {hours[0][0]} hours of study: {predicted_marks[0]:.2f}\")\n",
        "\n",
        "# # Visualization\n",
        "# plt.figure(figsize=(8,6))\n",
        "# plt.scatter(X, y, color='blue', label='Actual Data')\n",
        "# plt.plot(X, model.predict(X), color='red', linewidth=2, label='Best Fit Line')\n",
        "\n",
        "# # Highlight the prediction point\n",
        "# plt.scatter(hours, predicted_marks, color='green', s=100, marker='o', label='Predicted Point (9.25 hrs)')\n",
        "# plt.xlabel('Hours Studied')\n",
        "# plt.ylabel('Marks Obtained')\n",
        "# plt.title('Linear Regression - Study Hours vs Marks')\n",
        "# plt.legend()\n",
        "# plt.grid(True)\n",
        "# plt.show()\n"
      ],
      "metadata": {
        "colab": {
          "base_uri": "https://localhost:8080/"
        },
        "id": "lhrhBLBIIQHA",
        "outputId": "3ba159ac-a9a6-4063-aafe-ed7cbd12cdc2"
      },
      "execution_count": 14,
      "outputs": [
        {
          "output_type": "stream",
          "name": "stdout",
          "text": [
            "Slope (Coefficient): 7.672413793103448\n",
            "Intercept: 11.551724137931032\n",
            "Mean Squared Error: 11.46\n",
            "R-squared Score: 0.987\n",
            "Model Accuracy: 98.73%\n",
            "📘 Predicted Marks for 9.25 hours of study: 82.52\n"
          ]
        },
        {
          "output_type": "stream",
          "name": "stderr",
          "text": [
            "/usr/local/lib/python3.12/dist-packages/sklearn/utils/validation.py:2739: UserWarning: X does not have valid feature names, but LinearRegression was fitted with feature names\n",
            "  warnings.warn(\n"
          ]
        }
      ]
    },
    {
      "cell_type": "markdown",
      "source": [
        "# What is Train-Test Split?\n",
        "\n",
        "When we build a machine learning model, we want it to learn patterns from data —\n",
        "but also to perform well on unseen (new) data.\n",
        "\n",
        "| Set              | Purpose                    | Description                                                      |\n",
        "| ---------------- | -------------------------- | ---------------------------------------------------------------- |\n",
        "| **Training Set** | Used to train the model    | Model learns relationships (patterns) between inputs and outputs |\n",
        "| **Testing Set**  | Used to evaluate the model | Model is tested on unseen data to check performance              |\n",
        "\n",
        "Example Analogy:\n",
        "\n",
        "Imagine you’re a teacher preparing students for an exam:\n",
        "\n",
        "Training data = Practice questions you give them in class.\n",
        "\n",
        "Testing data = Final exam questions they’ve never seen before.\n",
        "\n",
        "If students only memorize the practice questions, they may fail the real test.\n",
        "So, we test with new questions to check true understanding  that’s exactly why we use test data.\n",
        "\n",
        "## What Happens When We Change the Ratio?\n",
        "\n",
        "Let’s understand what different splits mean:\n",
        "| Split Ratio | Train (%) | Test (%) | Description                               |\n",
        "| ----------- | --------- | -------- | ----------------------------------------- |\n",
        "| **80/20**   | 80        | 20       | 🔹 Most common and balanced split         |\n",
        "| **70/30**   | 70        | 30       | Good for smaller datasets                 |\n",
        "| **60/40**   | 60        | 40       | Risk of underfitting (less data to train) |\n",
        "| **90/10**   | 90        | 10       | Good for very large datasets              |\n",
        "| **50/50**   | 50        | 50       | Not ideal — training data too small       |\n",
        "\n",
        "\n",
        "## Effect of Different Ratios\n",
        "| Split     | Pros                                      | Cons                                        |\n",
        "| --------- | ----------------------------------------- | ------------------------------------------- |\n",
        "| **80/20** | Good balance between training and testing | Works well for most datasets                |\n",
        "| **70/30** | More test data for validation             | Slightly less training data                 |\n",
        "| **90/10** | More data to learn patterns               | Smaller test set (less reliable evaluation) |\n",
        "| **60/40** | More testing data to evaluate performance | Less data for training → weaker model       |\n",
        "\n",
        "\n",
        "## Example Visualization (Conceptual)\n",
        "\n",
        "Let’s say we have 10 data points:\n",
        "[1, 2, 3, 4, 5, 6, 7, 8, 9, 10]\n",
        "\n",
        "80/20 split:\n",
        "→ Train = [1,2,3,4,5,6,7,8]\n",
        "→ Test = [9,10]\n",
        "\n",
        "60/40 split:\n",
        "→ Train = [1,2,3,4,5,6]\n",
        "→ Test = [7,8,9,10]\n",
        "\n",
        "## Why Do We Use 80/20 Most Commonly?\n",
        "\n",
        "Because it provides a good balance:\n",
        "\n",
        "The model has enough data to learn (80%)\n",
        "\n",
        "And enough unseen data to test its generalization (20%)\n",
        "\n",
        "For small datasets (like <1000 samples),people often use 70/30 to have more testing data.\n",
        "\n",
        "For very large datasets (like millions of samples),\n",
        "even 90/10 works fine since 10% of a million is still 100,000 test samples.\n",
        "\n",
        "## How Train-Test Split Works Internally\n",
        "\n",
        "It randomly shuffles the dataset\n",
        "\n",
        "Then divides it according to the test_size\n",
        "\n",
        "Assigns:\n",
        "\n",
        "Training data → X_train, y_train\n",
        "\n",
        "Testing data → X_test, y_test"
      ],
      "metadata": {
        "id": "lt2HKIH8J-yW"
      }
    },
    {
      "cell_type": "code",
      "source": [],
      "metadata": {
        "id": "JUzUoDT0JCuX"
      },
      "execution_count": null,
      "outputs": []
    }
  ]
}